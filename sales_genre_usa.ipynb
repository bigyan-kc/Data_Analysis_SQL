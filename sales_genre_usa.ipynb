{
 "cells": [
  {
   "cell_type": "markdown",
   "metadata": {},
   "source": [
    "### I am practicing SQL skills(in SQLite DB) to answer business questions. I am gonna:\n",
    "-  Write a SQL query to extract the relevant data\n",
    "-  Create plots where necessary to visualize data\n",
    "-  Write a short paragraph, drawing conclusions and explaining the data and/or visualizations."
   ]
  },
  {
   "cell_type": "markdown",
   "metadata": {},
   "source": [
    "#### Database schema\n",
    "<img src=\"https://s3.amazonaws.com/dq-content/191/chinook-schema.svg\" alt=\"The database chinook schema that we gonna use in this notebook\" title=\"Database schema\" />"
   ]
  },
  {
   "cell_type": "code",
   "execution_count": 5,
   "metadata": {
    "collapsed": true
   },
   "outputs": [],
   "source": [
    "#Import libraries\n",
    "import sqlite3\n",
    "import pandas as pd\n",
    "import matplotlib.pyplot as plt"
   ]
  },
  {
   "cell_type": "code",
   "execution_count": 6,
   "metadata": {
    "collapsed": true
   },
   "outputs": [],
   "source": [
    "%matplotlib inline"
   ]
  },
  {
   "cell_type": "code",
   "execution_count": 7,
   "metadata": {
    "collapsed": true
   },
   "outputs": [],
   "source": [
    "#Function that takes SQL query as an argument and returns pandas dataframe\n",
    "def run_query(query):\n",
    "    with sqlite3.connect('chinook.db')as conn:\n",
    "        return(pd.read_sql(query, conn))"
   ]
  },
  {
   "cell_type": "code",
   "execution_count": 8,
   "metadata": {
    "collapsed": true
   },
   "outputs": [],
   "source": [
    "#Function that takes SQl query and executes it\n",
    "def run_command(my_query):\n",
    "    with sqlite3.connect('chinook.db') as conn:\n",
    "        conn.isolaltion_level = None\n",
    "        conn.execute(query)"
   ]
  },
  {
   "cell_type": "code",
   "execution_count": 9,
   "metadata": {
    "collapsed": true
   },
   "outputs": [],
   "source": [
    "#Function to return a list of tables and views in database\n",
    "def show_tables():\n",
    "    my_query = \"SELECT name, type FROM sqlite_master WHERE type IN ('table', 'view')\"\n",
    "    print(run_query(my_query))"
   ]
  },
  {
   "cell_type": "code",
   "execution_count": 10,
   "metadata": {
    "collapsed": false
   },
   "outputs": [
    {
     "name": "stdout",
     "output_type": "stream",
     "text": [
      "              name   type\n",
      "0            album  table\n",
      "1           artist  table\n",
      "2         customer  table\n",
      "3         employee  table\n",
      "4            genre  table\n",
      "5          invoice  table\n",
      "6     invoice_line  table\n",
      "7       media_type  table\n",
      "8         playlist  table\n",
      "9   playlist_track  table\n",
      "10           track  table\n"
     ]
    }
   ],
   "source": [
    "show_tables()"
   ]
  },
  {
   "cell_type": "code",
   "execution_count": 48,
   "metadata": {
    "collapsed": true
   },
   "outputs": [],
   "source": [
    "#Write a query that returns each genre, with the number of tracks sold\n",
    "def find_tracks_genre():\n",
    "    my_query = \"\"\"WITH \n",
    "                    track_genre AS\n",
    "                     (SELECT\n",
    "                      t.track_id, g.genre_id,g.name\n",
    "                      FROM\n",
    "                      genre g\n",
    "                      INNER JOIN track t ON t.genre_id = g.genre_id\n",
    "                     ),\n",
    "                     track_genre_all AS\n",
    "                     (\n",
    "                     SELECT * \n",
    "                     FROM \n",
    "                     track_genre tg\n",
    "                     INNER JOIN\n",
    "                     invoice_line il on il.track_id = tg.track_id\n",
    "                     ),\n",
    "                     track_genre_total AS\n",
    "                     (\n",
    "                     SELECT\n",
    "                     tga.track_id,\n",
    "                     tga.genre_id,\n",
    "                     tga.name,\n",
    "                     SUM(tga.quantity) total_quantity\n",
    "                     FROM\n",
    "                     track_genre_all tga\n",
    "                     GROUP BY 2\n",
    "                     ORDER BY 2\n",
    "                     ),\n",
    "                     track_genre_usa AS\n",
    "                     (\n",
    "                     SELECT\n",
    "                     tga.genre_id,\n",
    "                     tga.name,\n",
    "                     SUM(tga.quantity) sales_usa\n",
    "                     FROM\n",
    "                     track_genre_all tga\n",
    "                     INNER JOIN\n",
    "                     invoice i ON tga.invoice_id = i.invoice_id\n",
    "                     WHERE i.billing_country = \"USA\"\n",
    "                     GROUP BY 1\n",
    "                     ),\n",
    "                     track_genre_sales_usa AS\n",
    "                     (\n",
    "                     SELECT\n",
    "                     tgt.genre_id,\n",
    "                     tgt.name,\n",
    "                     tgt.total_quantity,\n",
    "                     tgu.sales_usa\n",
    "                     FROM\n",
    "                     track_genre_total tgt\n",
    "                     INNER JOIN\n",
    "                     track_genre_usa tgu ON tgu.genre_id = tgt.genre_id\n",
    "                     )\n",
    "                     \n",
    "                SELECT * FROM track_genre_sales_usa LIMIT 10\"\"\"\n",
    "    return run_query(my_query)"
   ]
  },
  {
   "cell_type": "code",
   "execution_count": 49,
   "metadata": {
    "collapsed": false
   },
   "outputs": [],
   "source": [
    "genre_sales_usa = find_tracks_genre()"
   ]
  },
  {
   "cell_type": "code",
   "execution_count": 50,
   "metadata": {
    "collapsed": false
   },
   "outputs": [
    {
     "data": {
      "text/html": [
       "<div>\n",
       "<style scoped>\n",
       "    .dataframe tbody tr th:only-of-type {\n",
       "        vertical-align: middle;\n",
       "    }\n",
       "\n",
       "    .dataframe tbody tr th {\n",
       "        vertical-align: top;\n",
       "    }\n",
       "\n",
       "    .dataframe thead th {\n",
       "        text-align: right;\n",
       "    }\n",
       "</style>\n",
       "<table border=\"1\" class=\"dataframe\">\n",
       "  <thead>\n",
       "    <tr style=\"text-align: right;\">\n",
       "      <th></th>\n",
       "      <th>genre_id</th>\n",
       "      <th>name</th>\n",
       "      <th>total_quantity</th>\n",
       "      <th>sales_usa</th>\n",
       "    </tr>\n",
       "  </thead>\n",
       "  <tbody>\n",
       "    <tr>\n",
       "      <th>0</th>\n",
       "      <td>1</td>\n",
       "      <td>Rock</td>\n",
       "      <td>2635</td>\n",
       "      <td>561</td>\n",
       "    </tr>\n",
       "    <tr>\n",
       "      <th>1</th>\n",
       "      <td>2</td>\n",
       "      <td>Jazz</td>\n",
       "      <td>121</td>\n",
       "      <td>14</td>\n",
       "    </tr>\n",
       "    <tr>\n",
       "      <th>2</th>\n",
       "      <td>3</td>\n",
       "      <td>Metal</td>\n",
       "      <td>619</td>\n",
       "      <td>124</td>\n",
       "    </tr>\n",
       "    <tr>\n",
       "      <th>3</th>\n",
       "      <td>4</td>\n",
       "      <td>Alternative &amp; Punk</td>\n",
       "      <td>492</td>\n",
       "      <td>130</td>\n",
       "    </tr>\n",
       "    <tr>\n",
       "      <th>4</th>\n",
       "      <td>6</td>\n",
       "      <td>Blues</td>\n",
       "      <td>124</td>\n",
       "      <td>36</td>\n",
       "    </tr>\n",
       "    <tr>\n",
       "      <th>5</th>\n",
       "      <td>7</td>\n",
       "      <td>Latin</td>\n",
       "      <td>167</td>\n",
       "      <td>22</td>\n",
       "    </tr>\n",
       "    <tr>\n",
       "      <th>6</th>\n",
       "      <td>8</td>\n",
       "      <td>Reggae</td>\n",
       "      <td>35</td>\n",
       "      <td>6</td>\n",
       "    </tr>\n",
       "    <tr>\n",
       "      <th>7</th>\n",
       "      <td>9</td>\n",
       "      <td>Pop</td>\n",
       "      <td>63</td>\n",
       "      <td>22</td>\n",
       "    </tr>\n",
       "    <tr>\n",
       "      <th>8</th>\n",
       "      <td>10</td>\n",
       "      <td>Soundtrack</td>\n",
       "      <td>5</td>\n",
       "      <td>2</td>\n",
       "    </tr>\n",
       "    <tr>\n",
       "      <th>9</th>\n",
       "      <td>12</td>\n",
       "      <td>Easy Listening</td>\n",
       "      <td>74</td>\n",
       "      <td>13</td>\n",
       "    </tr>\n",
       "  </tbody>\n",
       "</table>\n",
       "</div>"
      ],
      "text/plain": [
       "   genre_id                name  total_quantity  sales_usa\n",
       "0         1                Rock            2635        561\n",
       "1         2                Jazz             121         14\n",
       "2         3               Metal             619        124\n",
       "3         4  Alternative & Punk             492        130\n",
       "4         6               Blues             124         36\n",
       "5         7               Latin             167         22\n",
       "6         8              Reggae              35          6\n",
       "7         9                 Pop              63         22\n",
       "8        10          Soundtrack               5          2\n",
       "9        12      Easy Listening              74         13"
      ]
     },
     "execution_count": 50,
     "metadata": {},
     "output_type": "execute_result"
    }
   ],
   "source": [
    "genre_sales_usa"
   ]
  },
  {
   "cell_type": "markdown",
   "metadata": {},
   "source": [
    "The dataframe contains the name of the genre, total worldwide sales and the total sales in USA. We can perform arithmetic operation in dataframe to calculate the percentage sales in USA."
   ]
  },
  {
   "cell_type": "code",
   "execution_count": 53,
   "metadata": {
    "collapsed": false
   },
   "outputs": [],
   "source": [
    "genre_sales_usa['percent_usa'] = (genre_sales_usa['sales_usa'] / genre_sales_usa['total_quantity'])*100"
   ]
  },
  {
   "cell_type": "code",
   "execution_count": 54,
   "metadata": {
    "collapsed": false
   },
   "outputs": [
    {
     "data": {
      "text/html": [
       "<div>\n",
       "<style scoped>\n",
       "    .dataframe tbody tr th:only-of-type {\n",
       "        vertical-align: middle;\n",
       "    }\n",
       "\n",
       "    .dataframe tbody tr th {\n",
       "        vertical-align: top;\n",
       "    }\n",
       "\n",
       "    .dataframe thead th {\n",
       "        text-align: right;\n",
       "    }\n",
       "</style>\n",
       "<table border=\"1\" class=\"dataframe\">\n",
       "  <thead>\n",
       "    <tr style=\"text-align: right;\">\n",
       "      <th></th>\n",
       "      <th>genre_id</th>\n",
       "      <th>name</th>\n",
       "      <th>total_quantity</th>\n",
       "      <th>sales_usa</th>\n",
       "      <th>percent_usa</th>\n",
       "    </tr>\n",
       "  </thead>\n",
       "  <tbody>\n",
       "    <tr>\n",
       "      <th>0</th>\n",
       "      <td>1</td>\n",
       "      <td>Rock</td>\n",
       "      <td>2635</td>\n",
       "      <td>561</td>\n",
       "      <td>21.290323</td>\n",
       "    </tr>\n",
       "    <tr>\n",
       "      <th>1</th>\n",
       "      <td>2</td>\n",
       "      <td>Jazz</td>\n",
       "      <td>121</td>\n",
       "      <td>14</td>\n",
       "      <td>11.570248</td>\n",
       "    </tr>\n",
       "    <tr>\n",
       "      <th>2</th>\n",
       "      <td>3</td>\n",
       "      <td>Metal</td>\n",
       "      <td>619</td>\n",
       "      <td>124</td>\n",
       "      <td>20.032310</td>\n",
       "    </tr>\n",
       "    <tr>\n",
       "      <th>3</th>\n",
       "      <td>4</td>\n",
       "      <td>Alternative &amp; Punk</td>\n",
       "      <td>492</td>\n",
       "      <td>130</td>\n",
       "      <td>26.422764</td>\n",
       "    </tr>\n",
       "    <tr>\n",
       "      <th>4</th>\n",
       "      <td>6</td>\n",
       "      <td>Blues</td>\n",
       "      <td>124</td>\n",
       "      <td>36</td>\n",
       "      <td>29.032258</td>\n",
       "    </tr>\n",
       "    <tr>\n",
       "      <th>5</th>\n",
       "      <td>7</td>\n",
       "      <td>Latin</td>\n",
       "      <td>167</td>\n",
       "      <td>22</td>\n",
       "      <td>13.173653</td>\n",
       "    </tr>\n",
       "    <tr>\n",
       "      <th>6</th>\n",
       "      <td>8</td>\n",
       "      <td>Reggae</td>\n",
       "      <td>35</td>\n",
       "      <td>6</td>\n",
       "      <td>17.142857</td>\n",
       "    </tr>\n",
       "    <tr>\n",
       "      <th>7</th>\n",
       "      <td>9</td>\n",
       "      <td>Pop</td>\n",
       "      <td>63</td>\n",
       "      <td>22</td>\n",
       "      <td>34.920635</td>\n",
       "    </tr>\n",
       "    <tr>\n",
       "      <th>8</th>\n",
       "      <td>10</td>\n",
       "      <td>Soundtrack</td>\n",
       "      <td>5</td>\n",
       "      <td>2</td>\n",
       "      <td>40.000000</td>\n",
       "    </tr>\n",
       "    <tr>\n",
       "      <th>9</th>\n",
       "      <td>12</td>\n",
       "      <td>Easy Listening</td>\n",
       "      <td>74</td>\n",
       "      <td>13</td>\n",
       "      <td>17.567568</td>\n",
       "    </tr>\n",
       "  </tbody>\n",
       "</table>\n",
       "</div>"
      ],
      "text/plain": [
       "   genre_id                name  total_quantity  sales_usa  percent_usa\n",
       "0         1                Rock            2635        561    21.290323\n",
       "1         2                Jazz             121         14    11.570248\n",
       "2         3               Metal             619        124    20.032310\n",
       "3         4  Alternative & Punk             492        130    26.422764\n",
       "4         6               Blues             124         36    29.032258\n",
       "5         7               Latin             167         22    13.173653\n",
       "6         8              Reggae              35          6    17.142857\n",
       "7         9                 Pop              63         22    34.920635\n",
       "8        10          Soundtrack               5          2    40.000000\n",
       "9        12      Easy Listening              74         13    17.567568"
      ]
     },
     "execution_count": 54,
     "metadata": {},
     "output_type": "execute_result"
    }
   ],
   "source": [
    "genre_sales_usa"
   ]
  },
  {
   "cell_type": "code",
   "execution_count": 55,
   "metadata": {
    "collapsed": false
   },
   "outputs": [],
   "source": [
    "#Make the name column index of the dataframe\n",
    "genre_sales_usa.set_index(\"name\", drop = True, inplace = True)"
   ]
  },
  {
   "cell_type": "markdown",
   "metadata": {},
   "source": [
    "### Plot this dataframe"
   ]
  },
  {
   "cell_type": "code",
   "execution_count": 59,
   "metadata": {
    "collapsed": false
   },
   "outputs": [
    {
     "data": {
      "text/plain": [
       "<matplotlib.axes._subplots.AxesSubplot at 0x7f012c70db70>"
      ]
     },
     "execution_count": 59,
     "metadata": {},
     "output_type": "execute_result"
    },
    {
     "data": {
      "image/png": "[encoded data removed]",
      "text/plain": [
       "<matplotlib.figure.Figure at 0x7f012c6b4f28>"
      ]
     },
     "metadata": {},
     "output_type": "display_data"
    }
   ],
   "source": [
    "genre_sales_usa.plot.bar(y = 'sales_usa')"
   ]
  },
  {
   "cell_type": "code",
   "execution_count": 60,
   "metadata": {
    "collapsed": false
   },
   "outputs": [
    {
     "data": {
      "text/plain": [
       "<matplotlib.axes._subplots.AxesSubplot at 0x7f012c61e630>"
      ]
     },
     "execution_count": 60,
     "metadata": {},
     "output_type": "execute_result"
    },
    {
     "data": {
      "image/png": "[encoded data removed]",
      "text/plain": [
       "<matplotlib.figure.Figure at 0x7f012c5b7588>"
      ]
     },
     "metadata": {},
     "output_type": "display_data"
    }
   ],
   "source": [
    "genre_sales_usa.plot.bar(y = 'percent_usa')"
   ]
  },
  {
   "cell_type": "markdown",
   "metadata": {},
   "source": [
    "### The bar plot above shows the Rock genre is the highest sold genre USA. However, the highest percentage of Soundtrack was sold in the USA. The data available for the soundtrack was very few so we cannot make conclusion based of such limited data. The pop is second highest sold genre in USA and has relatively quiet large amount of data. Therefore, from the sales plot and the percentage plot I will recommed Pop, Blues and Alternative and punk genre."
   ]
  }
 ],
 "metadata": {
  "kernelspec": {
   "display_name": "Python 3",
   "language": "python",
   "name": "python3"
  },
  "language_info": {
   "codemirror_mode": {
    "name": "ipython",
    "version": 3
   },
   "file_extension": ".py",
   "mimetype": "text/x-python",
   "name": "python",
   "nbconvert_exporter": "python",
   "pygments_lexer": "ipython3",
   "version": "3.4.3"
  }
 },
 "nbformat": 4,
 "nbformat_minor": 2
}
